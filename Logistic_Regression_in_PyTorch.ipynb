{
  "nbformat": 4,
  "nbformat_minor": 0,
  "metadata": {
    "colab": {
      "provenance": [],
      "gpuType": "T4"
    },
    "kernelspec": {
      "name": "python3",
      "display_name": "Python 3"
    },
    "language_info": {
      "name": "python"
    },
    "accelerator": "GPU"
  },
  "cells": [
    {
      "cell_type": "code",
      "execution_count": null,
      "metadata": {
        "id": "GLLNPmJmbaSh"
      },
      "outputs": [],
      "source": [
        "# Imports\n",
        "import torch\n",
        "import torchvision\n",
        "from torchvision.datasets import MNIST"
      ]
    },
    {
      "cell_type": "code",
      "source": [
        "# Download training dataset\n",
        "dataset = MNIST(root='data/', download=True)"
      ],
      "metadata": {
        "colab": {
          "base_uri": "https://localhost:8080/"
        },
        "id": "3ovQXA44bo8a",
        "outputId": "fecb661f-493c-47b0-9b76-d17a58c8861b"
      },
      "execution_count": null,
      "outputs": [
        {
          "output_type": "stream",
          "name": "stdout",
          "text": [
            "Downloading http://yann.lecun.com/exdb/mnist/train-images-idx3-ubyte.gz\n",
            "Downloading http://yann.lecun.com/exdb/mnist/train-images-idx3-ubyte.gz to data/MNIST/raw/train-images-idx3-ubyte.gz\n"
          ]
        },
        {
          "output_type": "stream",
          "name": "stderr",
          "text": [
            "100%|██████████| 9912422/9912422 [00:00<00:00, 98049447.78it/s]\n"
          ]
        },
        {
          "output_type": "stream",
          "name": "stdout",
          "text": [
            "Extracting data/MNIST/raw/train-images-idx3-ubyte.gz to data/MNIST/raw\n",
            "\n",
            "Downloading http://yann.lecun.com/exdb/mnist/train-labels-idx1-ubyte.gz\n",
            "Downloading http://yann.lecun.com/exdb/mnist/train-labels-idx1-ubyte.gz to data/MNIST/raw/train-labels-idx1-ubyte.gz\n"
          ]
        },
        {
          "output_type": "stream",
          "name": "stderr",
          "text": [
            "100%|██████████| 28881/28881 [00:00<00:00, 17349712.66it/s]\n"
          ]
        },
        {
          "output_type": "stream",
          "name": "stdout",
          "text": [
            "Extracting data/MNIST/raw/train-labels-idx1-ubyte.gz to data/MNIST/raw\n",
            "\n",
            "Downloading http://yann.lecun.com/exdb/mnist/t10k-images-idx3-ubyte.gz\n",
            "Downloading http://yann.lecun.com/exdb/mnist/t10k-images-idx3-ubyte.gz to data/MNIST/raw/t10k-images-idx3-ubyte.gz\n"
          ]
        },
        {
          "output_type": "stream",
          "name": "stderr",
          "text": [
            "100%|██████████| 1648877/1648877 [00:00<00:00, 29071681.55it/s]\n"
          ]
        },
        {
          "output_type": "stream",
          "name": "stdout",
          "text": [
            "Extracting data/MNIST/raw/t10k-images-idx3-ubyte.gz to data/MNIST/raw\n",
            "\n",
            "Downloading http://yann.lecun.com/exdb/mnist/t10k-labels-idx1-ubyte.gz\n",
            "Downloading http://yann.lecun.com/exdb/mnist/t10k-labels-idx1-ubyte.gz to data/MNIST/raw/t10k-labels-idx1-ubyte.gz\n"
          ]
        },
        {
          "output_type": "stream",
          "name": "stderr",
          "text": [
            "100%|██████████| 4542/4542 [00:00<00:00, 19360293.46it/s]\n"
          ]
        },
        {
          "output_type": "stream",
          "name": "stdout",
          "text": [
            "Extracting data/MNIST/raw/t10k-labels-idx1-ubyte.gz to data/MNIST/raw\n",
            "\n"
          ]
        }
      ]
    },
    {
      "cell_type": "code",
      "source": [
        "len(dataset)"
      ],
      "metadata": {
        "colab": {
          "base_uri": "https://localhost:8080/"
        },
        "id": "56fHICKWby6k",
        "outputId": "31fde847-c0f5-4c94-8b00-e084e0ee381e"
      },
      "execution_count": null,
      "outputs": [
        {
          "output_type": "execute_result",
          "data": {
            "text/plain": [
              "60000"
            ]
          },
          "metadata": {},
          "execution_count": 4
        }
      ]
    },
    {
      "cell_type": "code",
      "source": [
        "test_dataset = MNIST(root='data/', train=False)\n",
        "len(test_dataset)"
      ],
      "metadata": {
        "colab": {
          "base_uri": "https://localhost:8080/"
        },
        "id": "spP4-b9wb05F",
        "outputId": "2663c812-770b-4e4d-8309-93ae9f97c627"
      },
      "execution_count": null,
      "outputs": [
        {
          "output_type": "execute_result",
          "data": {
            "text/plain": [
              "10000"
            ]
          },
          "metadata": {},
          "execution_count": 5
        }
      ]
    },
    {
      "cell_type": "code",
      "source": [
        "dataset[0]\n"
      ],
      "metadata": {
        "colab": {
          "base_uri": "https://localhost:8080/"
        },
        "id": "DRx_1My2b9iK",
        "outputId": "df81bfa4-19ef-432f-9e14-67f72e253bc8"
      },
      "execution_count": null,
      "outputs": [
        {
          "output_type": "execute_result",
          "data": {
            "text/plain": [
              "(<PIL.Image.Image image mode=L size=28x28>, 5)"
            ]
          },
          "metadata": {},
          "execution_count": 6
        }
      ]
    },
    {
      "cell_type": "code",
      "source": [
        "import matplotlib.pyplot as plt\n",
        "%matplotlib inline\n",
        "image, label = dataset[0]\n",
        "plt.imshow(image, cmap='gray')\n",
        "print('Label:', label)"
      ],
      "metadata": {
        "colab": {
          "base_uri": "https://localhost:8080/",
          "height": 447
        },
        "id": "FlCsijaucCYy",
        "outputId": "28ae6379-4a32-48be-f64d-cb2c8bf42665"
      },
      "execution_count": null,
      "outputs": [
        {
          "output_type": "stream",
          "name": "stdout",
          "text": [
            "Label: 5\n"
          ]
        },
        {
          "output_type": "display_data",
          "data": {
            "text/plain": [
              "<Figure size 640x480 with 1 Axes>"
            ],
            "image/png": "[encoded data removed]"
          },
          "metadata": {}
        }
      ]
    },
    {
      "cell_type": "code",
      "source": [
        "import torchvision.transforms as transforms\n",
        "# MNIST dataset (images and labels)\n",
        "dataset = MNIST(root='data/',\n",
        "                train=True,\n",
        "                transform=transforms.ToTensor())"
      ],
      "metadata": {
        "id": "SvqjV4R4cPmd"
      },
      "execution_count": null,
      "outputs": []
    },
    {
      "cell_type": "code",
      "source": [
        "img_tensor, label = dataset[0]\n",
        "print(img_tensor.shape, label)"
      ],
      "metadata": {
        "colab": {
          "base_uri": "https://localhost:8080/"
        },
        "id": "0anfhvo4cVxs",
        "outputId": "f681300d-6e25-432b-b1d7-7d73a4a83373"
      },
      "execution_count": null,
      "outputs": [
        {
          "output_type": "stream",
          "name": "stdout",
          "text": [
            "torch.Size([1, 28, 28]) 5\n"
          ]
        }
      ]
    },
    {
      "cell_type": "code",
      "source": [
        "from torch.utils.data import random_split\n",
        "\n",
        "train_ds, val_ds = random_split(dataset, [50000, 10000])\n",
        "len(train_ds), len(val_ds)"
      ],
      "metadata": {
        "colab": {
          "base_uri": "https://localhost:8080/"
        },
        "id": "UdJajLqechfS",
        "outputId": "bbe791ed-4475-4dfc-81b1-669dff878838"
      },
      "execution_count": null,
      "outputs": [
        {
          "output_type": "execute_result",
          "data": {
            "text/plain": [
              "(50000, 10000)"
            ]
          },
          "metadata": {},
          "execution_count": 10
        }
      ]
    },
    {
      "cell_type": "code",
      "source": [
        "from torch.utils.data import DataLoader\n",
        "\n",
        "batch_size = 256\n",
        "\n",
        "train_loader = DataLoader(train_ds, batch_size, shuffle=True)\n",
        "val_loader = DataLoader(val_ds, batch_size)"
      ],
      "metadata": {
        "id": "OCs_Zv6xcllP"
      },
      "execution_count": null,
      "outputs": []
    },
    {
      "cell_type": "code",
      "source": [
        "import torch.nn as nn\n",
        "\n",
        "input_size = 28*28\n",
        "num_classes = 10\n",
        "\n",
        "# Logistic regression model\n",
        "model = nn.Linear(input_size, num_classes)"
      ],
      "metadata": {
        "id": "Vx8rSM-Vc0S8"
      },
      "execution_count": null,
      "outputs": []
    },
    {
      "cell_type": "code",
      "source": [
        "for images, labels in train_loader:\n",
        "    print(labels)\n",
        "    print(images.shape)\n",
        "    outputs = model(images)\n",
        "    print(outputs)\n",
        "    break"
      ],
      "metadata": {
        "colab": {
          "base_uri": "https://localhost:8080/",
          "height": 599
        },
        "id": "Wa9cbWUwc_g2",
        "outputId": "83bf4896-9250-4774-9923-4e21056466fe"
      },
      "execution_count": null,
      "outputs": [
        {
          "output_type": "stream",
          "name": "stdout",
          "text": [
            "tensor([3, 1, 0, 6, 9, 5, 9, 9, 3, 6, 7, 2, 4, 4, 4, 7, 4, 8, 7, 1, 9, 3, 8, 2,\n",
            "        5, 3, 3, 7, 8, 3, 9, 8, 4, 1, 0, 2, 3, 9, 0, 8, 8, 6, 8, 5, 5, 7, 4, 1,\n",
            "        2, 3, 6, 7, 4, 7, 9, 4, 3, 4, 9, 5, 3, 4, 1, 2, 4, 8, 7, 0, 4, 2, 1, 3,\n",
            "        4, 7, 3, 2, 8, 0, 2, 5, 0, 5, 3, 6, 6, 8, 9, 6, 1, 1, 5, 7, 6, 3, 5, 0,\n",
            "        9, 2, 1, 7, 2, 7, 7, 4, 4, 4, 7, 6, 7, 5, 4, 2, 3, 7, 2, 7, 0, 4, 1, 8,\n",
            "        0, 1, 5, 7, 3, 6, 4, 3, 7, 5, 2, 0, 0, 0, 6, 6, 7, 3, 0, 4, 5, 0, 8, 1,\n",
            "        2, 5, 7, 5, 4, 1, 6, 4, 8, 3, 0, 3, 8, 4, 8, 7, 8, 6, 9, 3, 8, 3, 3, 7,\n",
            "        3, 5, 0, 0, 6, 4, 4, 9, 7, 9, 8, 9, 1, 6, 9, 7, 6, 2, 2, 3, 8, 3, 5, 9,\n",
            "        6, 7, 6, 2, 9, 9, 2, 8, 8, 5, 4, 1, 6, 8, 8, 7, 8, 7, 0, 8, 7, 8, 2, 3,\n",
            "        1, 3, 3, 7, 3, 5, 6, 4, 3, 3, 7, 7, 0, 3, 0, 6, 9, 3, 1, 7, 1, 3, 5, 0,\n",
            "        6, 5, 1, 9, 0, 2, 7, 7, 7, 2, 4, 9, 5, 1, 1, 5])\n",
            "torch.Size([256, 1, 28, 28])\n"
          ]
        },
        {
          "output_type": "error",
          "ename": "RuntimeError",
          "evalue": "ignored",
          "traceback": [
            "\u001b[0;31m---------------------------------------------------------------------------\u001b[0m",
            "\u001b[0;31mRuntimeError\u001b[0m                              Traceback (most recent call last)",
            "\u001b[0;32m<ipython-input-13-d0fe7d306f83>\u001b[0m in \u001b[0;36m<cell line: 1>\u001b[0;34m()\u001b[0m\n\u001b[1;32m      2\u001b[0m     \u001b[0mprint\u001b[0m\u001b[0;34m(\u001b[0m\u001b[0mlabels\u001b[0m\u001b[0;34m)\u001b[0m\u001b[0;34m\u001b[0m\u001b[0;34m\u001b[0m\u001b[0m\n\u001b[1;32m      3\u001b[0m     \u001b[0mprint\u001b[0m\u001b[0;34m(\u001b[0m\u001b[0mimages\u001b[0m\u001b[0;34m.\u001b[0m\u001b[0mshape\u001b[0m\u001b[0;34m)\u001b[0m\u001b[0;34m\u001b[0m\u001b[0;34m\u001b[0m\u001b[0m\n\u001b[0;32m----> 4\u001b[0;31m     \u001b[0moutputs\u001b[0m \u001b[0;34m=\u001b[0m \u001b[0mmodel\u001b[0m\u001b[0;34m(\u001b[0m\u001b[0mimages\u001b[0m\u001b[0;34m)\u001b[0m\u001b[0;34m\u001b[0m\u001b[0;34m\u001b[0m\u001b[0m\n\u001b[0m\u001b[1;32m      5\u001b[0m     \u001b[0mprint\u001b[0m\u001b[0;34m(\u001b[0m\u001b[0moutputs\u001b[0m\u001b[0;34m)\u001b[0m\u001b[0;34m\u001b[0m\u001b[0;34m\u001b[0m\u001b[0m\n\u001b[1;32m      6\u001b[0m     \u001b[0;32mbreak\u001b[0m\u001b[0;34m\u001b[0m\u001b[0;34m\u001b[0m\u001b[0m\n",
            "\u001b[0;32m/usr/local/lib/python3.10/dist-packages/torch/nn/modules/module.py\u001b[0m in \u001b[0;36m_wrapped_call_impl\u001b[0;34m(self, *args, **kwargs)\u001b[0m\n\u001b[1;32m   1516\u001b[0m             \u001b[0;32mreturn\u001b[0m \u001b[0mself\u001b[0m\u001b[0;34m.\u001b[0m\u001b[0m_compiled_call_impl\u001b[0m\u001b[0;34m(\u001b[0m\u001b[0;34m*\u001b[0m\u001b[0margs\u001b[0m\u001b[0;34m,\u001b[0m \u001b[0;34m**\u001b[0m\u001b[0mkwargs\u001b[0m\u001b[0;34m)\u001b[0m  \u001b[0;31m# type: ignore[misc]\u001b[0m\u001b[0;34m\u001b[0m\u001b[0;34m\u001b[0m\u001b[0m\n\u001b[1;32m   1517\u001b[0m         \u001b[0;32melse\u001b[0m\u001b[0;34m:\u001b[0m\u001b[0;34m\u001b[0m\u001b[0;34m\u001b[0m\u001b[0m\n\u001b[0;32m-> 1518\u001b[0;31m             \u001b[0;32mreturn\u001b[0m \u001b[0mself\u001b[0m\u001b[0;34m.\u001b[0m\u001b[0m_call_impl\u001b[0m\u001b[0;34m(\u001b[0m\u001b[0;34m*\u001b[0m\u001b[0margs\u001b[0m\u001b[0;34m,\u001b[0m \u001b[0;34m**\u001b[0m\u001b[0mkwargs\u001b[0m\u001b[0;34m)\u001b[0m\u001b[0;34m\u001b[0m\u001b[0;34m\u001b[0m\u001b[0m\n\u001b[0m\u001b[1;32m   1519\u001b[0m \u001b[0;34m\u001b[0m\u001b[0m\n\u001b[1;32m   1520\u001b[0m     \u001b[0;32mdef\u001b[0m \u001b[0m_call_impl\u001b[0m\u001b[0;34m(\u001b[0m\u001b[0mself\u001b[0m\u001b[0;34m,\u001b[0m \u001b[0;34m*\u001b[0m\u001b[0margs\u001b[0m\u001b[0;34m,\u001b[0m \u001b[0;34m**\u001b[0m\u001b[0mkwargs\u001b[0m\u001b[0;34m)\u001b[0m\u001b[0;34m:\u001b[0m\u001b[0;34m\u001b[0m\u001b[0;34m\u001b[0m\u001b[0m\n",
            "\u001b[0;32m/usr/local/lib/python3.10/dist-packages/torch/nn/modules/module.py\u001b[0m in \u001b[0;36m_call_impl\u001b[0;34m(self, *args, **kwargs)\u001b[0m\n\u001b[1;32m   1525\u001b[0m                 \u001b[0;32mor\u001b[0m \u001b[0m_global_backward_pre_hooks\u001b[0m \u001b[0;32mor\u001b[0m \u001b[0m_global_backward_hooks\u001b[0m\u001b[0;34m\u001b[0m\u001b[0;34m\u001b[0m\u001b[0m\n\u001b[1;32m   1526\u001b[0m                 or _global_forward_hooks or _global_forward_pre_hooks):\n\u001b[0;32m-> 1527\u001b[0;31m             \u001b[0;32mreturn\u001b[0m \u001b[0mforward_call\u001b[0m\u001b[0;34m(\u001b[0m\u001b[0;34m*\u001b[0m\u001b[0margs\u001b[0m\u001b[0;34m,\u001b[0m \u001b[0;34m**\u001b[0m\u001b[0mkwargs\u001b[0m\u001b[0;34m)\u001b[0m\u001b[0;34m\u001b[0m\u001b[0;34m\u001b[0m\u001b[0m\n\u001b[0m\u001b[1;32m   1528\u001b[0m \u001b[0;34m\u001b[0m\u001b[0m\n\u001b[1;32m   1529\u001b[0m         \u001b[0;32mtry\u001b[0m\u001b[0;34m:\u001b[0m\u001b[0;34m\u001b[0m\u001b[0;34m\u001b[0m\u001b[0m\n",
            "\u001b[0;32m/usr/local/lib/python3.10/dist-packages/torch/nn/modules/linear.py\u001b[0m in \u001b[0;36mforward\u001b[0;34m(self, input)\u001b[0m\n\u001b[1;32m    112\u001b[0m \u001b[0;34m\u001b[0m\u001b[0m\n\u001b[1;32m    113\u001b[0m     \u001b[0;32mdef\u001b[0m \u001b[0mforward\u001b[0m\u001b[0;34m(\u001b[0m\u001b[0mself\u001b[0m\u001b[0;34m,\u001b[0m \u001b[0minput\u001b[0m\u001b[0;34m:\u001b[0m \u001b[0mTensor\u001b[0m\u001b[0;34m)\u001b[0m \u001b[0;34m->\u001b[0m \u001b[0mTensor\u001b[0m\u001b[0;34m:\u001b[0m\u001b[0;34m\u001b[0m\u001b[0;34m\u001b[0m\u001b[0m\n\u001b[0;32m--> 114\u001b[0;31m         \u001b[0;32mreturn\u001b[0m \u001b[0mF\u001b[0m\u001b[0;34m.\u001b[0m\u001b[0mlinear\u001b[0m\u001b[0;34m(\u001b[0m\u001b[0minput\u001b[0m\u001b[0;34m,\u001b[0m \u001b[0mself\u001b[0m\u001b[0;34m.\u001b[0m\u001b[0mweight\u001b[0m\u001b[0;34m,\u001b[0m \u001b[0mself\u001b[0m\u001b[0;34m.\u001b[0m\u001b[0mbias\u001b[0m\u001b[0;34m)\u001b[0m\u001b[0;34m\u001b[0m\u001b[0;34m\u001b[0m\u001b[0m\n\u001b[0m\u001b[1;32m    115\u001b[0m \u001b[0;34m\u001b[0m\u001b[0m\n\u001b[1;32m    116\u001b[0m     \u001b[0;32mdef\u001b[0m \u001b[0mextra_repr\u001b[0m\u001b[0;34m(\u001b[0m\u001b[0mself\u001b[0m\u001b[0;34m)\u001b[0m \u001b[0;34m->\u001b[0m \u001b[0mstr\u001b[0m\u001b[0;34m:\u001b[0m\u001b[0;34m\u001b[0m\u001b[0;34m\u001b[0m\u001b[0m\n",
            "\u001b[0;31mRuntimeError\u001b[0m: mat1 and mat2 shapes cannot be multiplied (7168x28 and 784x10)"
          ]
        }
      ]
    },
    {
      "cell_type": "code",
      "source": [
        "images.shape"
      ],
      "metadata": {
        "colab": {
          "base_uri": "https://localhost:8080/"
        },
        "id": "SkCj-NumdE5R",
        "outputId": "ab079a52-efc6-4cac-b1c1-573d79b86511"
      },
      "execution_count": null,
      "outputs": [
        {
          "output_type": "execute_result",
          "data": {
            "text/plain": [
              "torch.Size([256, 1, 28, 28])"
            ]
          },
          "metadata": {},
          "execution_count": 14
        }
      ]
    },
    {
      "cell_type": "code",
      "source": [
        "images.reshape(256, 784).shape"
      ],
      "metadata": {
        "colab": {
          "base_uri": "https://localhost:8080/"
        },
        "id": "lPn7KO5VdKX_",
        "outputId": "56d63fbf-7382-45b4-a351-dfbcb85644cb"
      },
      "execution_count": null,
      "outputs": [
        {
          "output_type": "execute_result",
          "data": {
            "text/plain": [
              "torch.Size([256, 784])"
            ]
          },
          "metadata": {},
          "execution_count": 15
        }
      ]
    },
    {
      "cell_type": "code",
      "source": [
        "class MnistModel(nn.Module):\n",
        "    def __init__(self):\n",
        "        super().__init__()\n",
        "        self.linear = nn.Linear(input_size, num_classes)\n",
        "\n",
        "    def forward(self, xb):\n",
        "        xb = xb.reshape(-1, 784)\n",
        "        out = self.linear(xb)\n",
        "        return out\n",
        "\n",
        "model = MnistModel()"
      ],
      "metadata": {
        "id": "SmX42q-OdUr7"
      },
      "execution_count": null,
      "outputs": []
    },
    {
      "cell_type": "code",
      "source": [
        "model.linear"
      ],
      "metadata": {
        "colab": {
          "base_uri": "https://localhost:8080/"
        },
        "id": "cr7a_t6gsNc4",
        "outputId": "1ceddd57-a468-4a15-bb29-58baf740642e"
      },
      "execution_count": null,
      "outputs": [
        {
          "output_type": "execute_result",
          "data": {
            "text/plain": [
              "Linear(in_features=784, out_features=10, bias=True)"
            ]
          },
          "metadata": {},
          "execution_count": 17
        }
      ]
    },
    {
      "cell_type": "code",
      "source": [
        "print(model.linear.weight.shape, model.linear.bias.shape)\n",
        "list(model.parameters())"
      ],
      "metadata": {
        "colab": {
          "base_uri": "https://localhost:8080/"
        },
        "id": "lHVJ5kEqsQWF",
        "outputId": "0ff5cf6b-2b9b-4236-9fd3-382324ab3e23"
      },
      "execution_count": null,
      "outputs": [
        {
          "output_type": "stream",
          "name": "stdout",
          "text": [
            "torch.Size([10, 784]) torch.Size([10])\n"
          ]
        },
        {
          "output_type": "execute_result",
          "data": {
            "text/plain": [
              "[Parameter containing:\n",
              " tensor([[ 0.0068,  0.0151, -0.0309,  ..., -0.0299,  0.0203, -0.0197],\n",
              "         [ 0.0204, -0.0247,  0.0004,  ..., -0.0196,  0.0178,  0.0021],\n",
              "         [-0.0188, -0.0200, -0.0226,  ..., -0.0004,  0.0153,  0.0229],\n",
              "         ...,\n",
              "         [ 0.0147,  0.0246,  0.0167,  ...,  0.0271, -0.0327,  0.0167],\n",
              "         [ 0.0338,  0.0074,  0.0307,  ..., -0.0079,  0.0302, -0.0226],\n",
              "         [ 0.0129,  0.0114,  0.0336,  ..., -0.0344, -0.0164, -0.0316]],\n",
              "        requires_grad=True),\n",
              " Parameter containing:\n",
              " tensor([-0.0140, -0.0321,  0.0158,  0.0130, -0.0147, -0.0188,  0.0236, -0.0165,\n",
              "         -0.0235,  0.0229], requires_grad=True)]"
            ]
          },
          "metadata": {},
          "execution_count": 18
        }
      ]
    },
    {
      "cell_type": "code",
      "source": [
        "for images, labels in train_loader:\n",
        "    print(images.shape)\n",
        "    outputs = model(images)\n",
        "    break\n",
        "\n",
        "print('outputs.shape : ', outputs.shape)\n",
        "print('Sample outputs :\\n', outputs[:2].data)"
      ],
      "metadata": {
        "colab": {
          "base_uri": "https://localhost:8080/"
        },
        "id": "JwkcWD4UsVBw",
        "outputId": "0fde15ac-595f-4d30-92cc-b4320ac601f9"
      },
      "execution_count": null,
      "outputs": [
        {
          "output_type": "stream",
          "name": "stdout",
          "text": [
            "torch.Size([256, 1, 28, 28])\n",
            "outputs.shape :  torch.Size([256, 10])\n",
            "Sample outputs :\n",
            " tensor([[-0.1640, -0.1751, -0.0640,  0.1756,  0.2057,  0.0027,  0.1056,  0.0901,\n",
            "         -0.0788, -0.1691],\n",
            "        [-0.0470, -0.1325,  0.0954,  0.0583,  0.0529, -0.0551, -0.3411,  0.2821,\n",
            "          0.2230, -0.4442]])\n"
          ]
        }
      ]
    },
    {
      "cell_type": "code",
      "source": [
        "import torch.nn.functional as F\n",
        "# Apply softmax for each output row\n",
        "probs = F.softmax(outputs, dim=1)\n",
        "\n",
        "# Look at sample probabilities\n",
        "print(\"Sample probabilities:\\n\", probs[:2].data)\n",
        "\n",
        "# Add up the probabilities of an output row\n",
        "print(\"Sum: \", torch.sum(probs[0]).item())"
      ],
      "metadata": {
        "colab": {
          "base_uri": "https://localhost:8080/"
        },
        "id": "pOYEkhhWsZKK",
        "outputId": "47af472a-82ac-42ed-8ff3-cfff11e30b31"
      },
      "execution_count": null,
      "outputs": [
        {
          "output_type": "stream",
          "name": "stdout",
          "text": [
            "Sample probabilities:\n",
            " tensor([[0.0847, 0.0837, 0.0936, 0.1189, 0.1226, 0.1000, 0.1109, 0.1092, 0.0922,\n",
            "         0.0842],\n",
            "        [0.0962, 0.0883, 0.1109, 0.1069, 0.1063, 0.0954, 0.0717, 0.1337, 0.1260,\n",
            "         0.0647]])\n",
            "Sum:  1.0\n"
          ]
        }
      ]
    },
    {
      "cell_type": "code",
      "source": [
        "max_probs, preds = torch.max(probs, dim=1)\n",
        "print(preds)\n",
        "print(max_probs)"
      ],
      "metadata": {
        "colab": {
          "base_uri": "https://localhost:8080/"
        },
        "id": "PvqrALlksrP4",
        "outputId": "dfc49321-d881-4b44-a570-2d816f3c5f20"
      },
      "execution_count": null,
      "outputs": [
        {
          "output_type": "stream",
          "name": "stdout",
          "text": [
            "tensor([4, 7, 7, 7, 7, 7, 2, 2, 7, 5, 0, 7, 4, 7, 8, 4, 7, 7, 5, 5, 7, 7, 3, 7,\n",
            "        7, 0, 7, 7, 7, 8, 7, 7, 7, 5, 4, 7, 3, 7, 7, 7, 3, 7, 7, 3, 7, 7, 7, 8,\n",
            "        7, 4, 8, 7, 7, 5, 7, 3, 2, 5, 8, 3, 5, 5, 2, 5, 3, 7, 7, 5, 9, 4, 5, 8,\n",
            "        7, 8, 7, 3, 8, 3, 7, 3, 7, 1, 7, 7, 5, 8, 7, 7, 7, 7, 0, 7, 4, 7, 4, 0,\n",
            "        4, 5, 7, 0, 7, 7, 2, 2, 5, 9, 3, 2, 8, 7, 5, 3, 7, 5, 7, 6, 7, 7, 5, 7,\n",
            "        8, 7, 7, 7, 8, 7, 2, 7, 7, 7, 8, 7, 7, 2, 7, 5, 8, 3, 0, 5, 5, 9, 7, 7,\n",
            "        8, 7, 7, 3, 7, 5, 2, 3, 2, 4, 2, 6, 5, 8, 7, 2, 7, 3, 7, 2, 7, 7, 7, 3,\n",
            "        7, 4, 8, 7, 2, 7, 5, 3, 7, 7, 0, 1, 7, 4, 7, 7, 3, 7, 8, 3, 5, 7, 2, 4,\n",
            "        8, 3, 5, 2, 7, 8, 2, 7, 7, 7, 5, 7, 4, 5, 7, 3, 7, 7, 3, 7, 7, 2, 3, 7,\n",
            "        2, 7, 7, 7, 7, 2, 7, 6, 3, 7, 7, 7, 7, 7, 7, 2, 3, 3, 7, 8, 3, 9, 7, 7,\n",
            "        7, 3, 7, 0, 7, 7, 7, 0, 7, 7, 4, 3, 5, 7, 7, 4])\n",
            "tensor([0.1226, 0.1337, 0.1839, 0.1438, 0.1989, 0.1262, 0.1239, 0.1322, 0.1283,\n",
            "        0.1348, 0.1125, 0.1227, 0.1376, 0.1246, 0.1435, 0.1227, 0.1529, 0.1264,\n",
            "        0.1347, 0.1518, 0.1447, 0.1483, 0.1256, 0.1179, 0.1523, 0.1217, 0.1372,\n",
            "        0.1209, 0.1303, 0.1314, 0.1245, 0.1311, 0.1299, 0.1288, 0.1200, 0.1525,\n",
            "        0.1245, 0.1324, 0.1295, 0.1406, 0.1359, 0.1363, 0.1228, 0.1158, 0.1307,\n",
            "        0.1499, 0.1158, 0.1380, 0.1516, 0.1380, 0.1463, 0.1246, 0.1419, 0.1261,\n",
            "        0.1322, 0.1355, 0.1309, 0.1656, 0.1165, 0.1167, 0.1208, 0.1175, 0.1185,\n",
            "        0.1392, 0.1164, 0.1512, 0.1327, 0.1362, 0.1426, 0.1246, 0.1456, 0.1596,\n",
            "        0.1341, 0.1402, 0.1113, 0.1193, 0.1537, 0.1277, 0.1223, 0.1133, 0.1176,\n",
            "        0.1267, 0.1415, 0.1298, 0.1117, 0.1246, 0.1473, 0.1330, 0.1457, 0.1246,\n",
            "        0.1122, 0.1383, 0.1196, 0.1257, 0.1337, 0.1274, 0.1238, 0.1358, 0.1283,\n",
            "        0.1279, 0.1485, 0.1472, 0.1224, 0.1249, 0.1368, 0.1174, 0.1286, 0.1168,\n",
            "        0.1593, 0.1485, 0.1251, 0.1309, 0.1280, 0.1291, 0.1196, 0.1224, 0.1205,\n",
            "        0.1470, 0.1388, 0.1300, 0.1206, 0.1347, 0.1570, 0.1330, 0.1418, 0.1274,\n",
            "        0.1185, 0.1495, 0.1353, 0.1348, 0.1184, 0.1303, 0.1430, 0.1116, 0.1388,\n",
            "        0.1526, 0.1151, 0.1253, 0.1248, 0.1321, 0.1324, 0.1223, 0.1244, 0.1329,\n",
            "        0.1622, 0.1432, 0.1250, 0.1140, 0.1272, 0.1503, 0.1182, 0.1265, 0.1257,\n",
            "        0.1278, 0.1207, 0.1204, 0.1140, 0.1233, 0.1369, 0.1142, 0.1300, 0.1330,\n",
            "        0.1356, 0.1468, 0.1300, 0.1444, 0.1229, 0.1155, 0.1272, 0.1195, 0.1240,\n",
            "        0.1718, 0.1217, 0.1224, 0.1444, 0.1256, 0.1921, 0.1435, 0.1236, 0.1123,\n",
            "        0.1326, 0.1253, 0.1235, 0.1188, 0.1328, 0.1236, 0.1569, 0.1229, 0.1619,\n",
            "        0.1296, 0.1271, 0.1190, 0.1434, 0.1175, 0.1377, 0.1222, 0.1385, 0.1533,\n",
            "        0.1407, 0.1301, 0.1506, 0.1604, 0.1242, 0.1324, 0.1273, 0.1562, 0.1731,\n",
            "        0.1300, 0.1200, 0.1343, 0.1296, 0.1220, 0.1377, 0.1201, 0.1351, 0.1281,\n",
            "        0.1344, 0.1194, 0.1172, 0.1521, 0.1194, 0.1144, 0.1334, 0.1183, 0.1208,\n",
            "        0.1516, 0.1409, 0.1240, 0.1437, 0.1409, 0.1454, 0.1188, 0.1183, 0.1280,\n",
            "        0.1326, 0.1507, 0.1224, 0.1192, 0.1379, 0.1291, 0.1251, 0.1293, 0.1382,\n",
            "        0.1132, 0.1305, 0.1429, 0.1205, 0.1226, 0.1347, 0.1228, 0.1285, 0.1125,\n",
            "        0.1486, 0.1169, 0.1269, 0.1319], grad_fn=<MaxBackward0>)\n"
          ]
        }
      ]
    },
    {
      "cell_type": "code",
      "source": [
        "torch.sum(preds == labels)"
      ],
      "metadata": {
        "colab": {
          "base_uri": "https://localhost:8080/"
        },
        "id": "IuoXI9Uasl6u",
        "outputId": "eb9eafda-4285-4777-d2c0-5947ff635b11"
      },
      "execution_count": null,
      "outputs": [
        {
          "output_type": "execute_result",
          "data": {
            "text/plain": [
              "tensor(28)"
            ]
          },
          "metadata": {},
          "execution_count": 24
        }
      ]
    },
    {
      "cell_type": "code",
      "source": [
        "def accuracy(outputs, labels):\n",
        "    _, preds = torch.max(outputs, dim=1)\n",
        "    return torch.tensor(torch.sum(preds == labels).item() / len(preds))"
      ],
      "metadata": {
        "id": "CGwdMU9pszN8"
      },
      "execution_count": null,
      "outputs": []
    },
    {
      "cell_type": "code",
      "source": [
        "accuracy(outputs, labels)"
      ],
      "metadata": {
        "colab": {
          "base_uri": "https://localhost:8080/"
        },
        "id": "jSEpfSgEs14g",
        "outputId": "bf9f3571-b93a-4201-d5f6-939c86c6dd54"
      },
      "execution_count": null,
      "outputs": [
        {
          "output_type": "execute_result",
          "data": {
            "text/plain": [
              "tensor(0.1094)"
            ]
          },
          "metadata": {},
          "execution_count": 26
        }
      ]
    },
    {
      "cell_type": "code",
      "source": [
        "def fit(epochs, lr, model, train_loader, val_loader, opt_func=torch.optim.SGD):\n",
        "    optimizer = opt_func(model.parameters(), lr)\n",
        "    history = [] # for recording epoch-wise results\n",
        "\n",
        "    for epoch in range(epochs):\n",
        "\n",
        "        # Training Phase\n",
        "        for batch in train_loader:\n",
        "            loss = model.training_step(batch)\n",
        "            loss.backward()\n",
        "            optimizer.step()\n",
        "            optimizer.zero_grad()\n",
        "\n",
        "        # Validation phase\n",
        "        result = evaluate(model, val_loader)\n",
        "        model.epoch_end(epoch, result)\n",
        "        history.append(result)\n",
        "\n",
        "    return history"
      ],
      "metadata": {
        "id": "_LM_iCQqs9vR"
      },
      "execution_count": null,
      "outputs": []
    },
    {
      "cell_type": "code",
      "source": [
        "def evaluate(model, val_loader):\n",
        "    outputs = [model.validation_step(batch) for batch in val_loader]\n",
        "    return model.validation_epoch_end(outputs)"
      ],
      "metadata": {
        "id": "tK9BAYN8tJcn"
      },
      "execution_count": null,
      "outputs": []
    },
    {
      "cell_type": "code",
      "source": [
        "class MnistModel(nn.Module):\n",
        "    def __init__(self):\n",
        "        super().__init__()\n",
        "        self.linear = nn.Linear(input_size, num_classes)\n",
        "\n",
        "    def forward(self, xb):\n",
        "        xb = xb.reshape(-1, 784)\n",
        "        out = self.linear(xb)\n",
        "        return out\n",
        "\n",
        "    def training_step(self, batch):\n",
        "        images, labels = batch\n",
        "        out = self(images)                  # Generate predictions\n",
        "        loss = F.cross_entropy(out, labels) # Calculate loss\n",
        "        return loss\n",
        "\n",
        "    def validation_step(self, batch):\n",
        "        images, labels = batch\n",
        "        out = self(images)                    # Generate predictions\n",
        "        loss = F.cross_entropy(out, labels)   # Calculate loss\n",
        "        acc = accuracy(out, labels)           # Calculate accuracy\n",
        "        return {'val_loss': loss, 'val_acc': acc}\n",
        "\n",
        "    def validation_epoch_end(self, outputs):\n",
        "        batch_losses = [x['val_loss'] for x in outputs]\n",
        "        epoch_loss = torch.stack(batch_losses).mean()   # Combine losses\n",
        "        batch_accs = [x['val_acc'] for x in outputs]\n",
        "        epoch_acc = torch.stack(batch_accs).mean()      # Combine accuracies\n",
        "        return {'val_loss': epoch_loss.item(), 'val_acc': epoch_acc.item()}\n",
        "\n",
        "    def epoch_end(self, epoch, result):\n",
        "        print(\"Epoch [{}], val_loss: {:.4f}, val_acc: {:.4f}\".format(epoch, result['val_loss'], result['val_acc']))\n",
        "\n",
        "model = MnistModel()"
      ],
      "metadata": {
        "id": "BT4ceyVUtPBU"
      },
      "execution_count": null,
      "outputs": []
    },
    {
      "cell_type": "code",
      "source": [
        "result0 = evaluate(model, val_loader)\n",
        "result0"
      ],
      "metadata": {
        "colab": {
          "base_uri": "https://localhost:8080/"
        },
        "id": "FXdkakqEtSsb",
        "outputId": "374f256e-8b5c-4149-9ef1-769963658712"
      },
      "execution_count": null,
      "outputs": [
        {
          "output_type": "execute_result",
          "data": {
            "text/plain": [
              "{'val_loss': 2.306572437286377, 'val_acc': 0.09091796725988388}"
            ]
          },
          "metadata": {},
          "execution_count": 30
        }
      ]
    },
    {
      "cell_type": "code",
      "source": [
        "history1 = fit(50, 0.001, model, train_loader, val_loader)"
      ],
      "metadata": {
        "colab": {
          "base_uri": "https://localhost:8080/"
        },
        "id": "riNO7t4ltWcK",
        "outputId": "30d3962b-3306-4f2f-ce4d-96ffeca5dd6c"
      },
      "execution_count": null,
      "outputs": [
        {
          "output_type": "stream",
          "name": "stdout",
          "text": [
            "Epoch [0], val_loss: 1.4658, val_acc: 0.7644\n",
            "Epoch [1], val_loss: 1.3857, val_acc: 0.7750\n",
            "Epoch [2], val_loss: 1.3157, val_acc: 0.7842\n",
            "Epoch [3], val_loss: 1.2542, val_acc: 0.7912\n",
            "Epoch [4], val_loss: 1.2000, val_acc: 0.7964\n",
            "Epoch [5], val_loss: 1.1519, val_acc: 0.8028\n",
            "Epoch [6], val_loss: 1.1090, val_acc: 0.8085\n",
            "Epoch [7], val_loss: 1.0705, val_acc: 0.8117\n",
            "Epoch [8], val_loss: 1.0359, val_acc: 0.8147\n",
            "Epoch [9], val_loss: 1.0046, val_acc: 0.8189\n",
            "Epoch [10], val_loss: 0.9761, val_acc: 0.8220\n",
            "Epoch [11], val_loss: 0.9501, val_acc: 0.8266\n",
            "Epoch [12], val_loss: 0.9263, val_acc: 0.8287\n",
            "Epoch [13], val_loss: 0.9045, val_acc: 0.8303\n",
            "Epoch [14], val_loss: 0.8843, val_acc: 0.8327\n",
            "Epoch [15], val_loss: 0.8656, val_acc: 0.8344\n",
            "Epoch [16], val_loss: 0.8482, val_acc: 0.8360\n",
            "Epoch [17], val_loss: 0.8321, val_acc: 0.8371\n",
            "Epoch [18], val_loss: 0.8170, val_acc: 0.8389\n",
            "Epoch [19], val_loss: 0.8029, val_acc: 0.8399\n",
            "Epoch [20], val_loss: 0.7897, val_acc: 0.8403\n",
            "Epoch [21], val_loss: 0.7773, val_acc: 0.8418\n",
            "Epoch [22], val_loss: 0.7656, val_acc: 0.8438\n",
            "Epoch [23], val_loss: 0.7545, val_acc: 0.8448\n",
            "Epoch [24], val_loss: 0.7441, val_acc: 0.8461\n",
            "Epoch [25], val_loss: 0.7343, val_acc: 0.8478\n",
            "Epoch [26], val_loss: 0.7249, val_acc: 0.8491\n",
            "Epoch [27], val_loss: 0.7160, val_acc: 0.8499\n",
            "Epoch [28], val_loss: 0.7076, val_acc: 0.8508\n",
            "Epoch [29], val_loss: 0.6995, val_acc: 0.8521\n",
            "Epoch [30], val_loss: 0.6918, val_acc: 0.8524\n",
            "Epoch [31], val_loss: 0.6845, val_acc: 0.8535\n",
            "Epoch [32], val_loss: 0.6775, val_acc: 0.8545\n",
            "Epoch [33], val_loss: 0.6708, val_acc: 0.8557\n",
            "Epoch [34], val_loss: 0.6643, val_acc: 0.8567\n",
            "Epoch [35], val_loss: 0.6581, val_acc: 0.8575\n",
            "Epoch [36], val_loss: 0.6522, val_acc: 0.8577\n",
            "Epoch [37], val_loss: 0.6465, val_acc: 0.8582\n",
            "Epoch [38], val_loss: 0.6411, val_acc: 0.8585\n",
            "Epoch [39], val_loss: 0.6358, val_acc: 0.8588\n",
            "Epoch [40], val_loss: 0.6307, val_acc: 0.8594\n",
            "Epoch [41], val_loss: 0.6258, val_acc: 0.8597\n",
            "Epoch [42], val_loss: 0.6211, val_acc: 0.8600\n",
            "Epoch [43], val_loss: 0.6166, val_acc: 0.8604\n",
            "Epoch [44], val_loss: 0.6122, val_acc: 0.8607\n",
            "Epoch [45], val_loss: 0.6079, val_acc: 0.8613\n",
            "Epoch [46], val_loss: 0.6038, val_acc: 0.8614\n",
            "Epoch [47], val_loss: 0.5998, val_acc: 0.8616\n",
            "Epoch [48], val_loss: 0.5959, val_acc: 0.8616\n",
            "Epoch [49], val_loss: 0.5922, val_acc: 0.8621\n"
          ]
        }
      ]
    },
    {
      "cell_type": "code",
      "source": [
        "history = [result0] + history1\n",
        "accuracies = [result['val_acc'] for result in history]\n",
        "plt.plot(accuracies, '-x')\n",
        "plt.xlabel('epoch')\n",
        "plt.ylabel('accuracy')\n",
        "plt.title('Accuracy vs. No. of epochs');"
      ],
      "metadata": {
        "colab": {
          "base_uri": "https://localhost:8080/",
          "height": 472
        },
        "id": "vS0QF_b2tjqL",
        "outputId": "13b55a45-b96d-4599-82b7-68e0af52454a"
      },
      "execution_count": null,
      "outputs": [
        {
          "output_type": "display_data",
          "data": {
            "text/plain": [
              "<Figure size 640x480 with 1 Axes>"
            ],
            "image/png": "[encoded data removed]"
          },
          "metadata": {}
        }
      ]
    }
  ]
}