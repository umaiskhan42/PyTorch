{
  "nbformat": 4,
  "nbformat_minor": 0,
  "metadata": {
    "colab": {
      "provenance": [],
      "gpuType": "T4"
    },
    "kernelspec": {
      "name": "python3",
      "display_name": "Python 3"
    },
    "language_info": {
      "name": "python"
    },
    "accelerator": "GPU"
  },
  "cells": [
    {
      "cell_type": "markdown",
      "source": [
        "Linear Regression using PyTorch on Synthetic Data."
      ],
      "metadata": {
        "id": "VL5uj2HAJem5"
      }
    },
    {
      "cell_type": "code",
      "execution_count": null,
      "metadata": {
        "id": "B0xSHHC0j69C"
      },
      "outputs": [],
      "source": [
        "import torch.nn as nn\n",
        "import torch\n",
        "import torchvision\n",
        "import numpy as np"
      ]
    },
    {
      "cell_type": "code",
      "source": [
        "# Input (temp, rainfall, humidity)\n",
        "inputs = np.array([[73, 67, 43],\n",
        "                   [91, 88, 64],\n",
        "                   [87, 134, 58],\n",
        "                   [102, 43, 37],\n",
        "                   [69, 96, 70],\n",
        "                   [74, 66, 43],\n",
        "                   [91, 87, 65],\n",
        "                   [88, 134, 59],\n",
        "                   [101, 44, 37],\n",
        "                   [68, 96, 71],\n",
        "                   [73, 66, 44],\n",
        "                   [92, 87, 64],\n",
        "                   [87, 135, 57],\n",
        "                   [103, 43, 36],\n",
        "                   [68, 97, 70]],\n",
        "                  dtype='float32')\n",
        "\n",
        "# Targets (apples, oranges)\n",
        "targets = np.array([[56, 70],\n",
        "                    [81, 101],\n",
        "                    [119, 133],\n",
        "                    [22, 37],\n",
        "                    [103, 119],\n",
        "                    [57, 69],\n",
        "                    [80, 102],\n",
        "                    [118, 132],\n",
        "                    [21, 38],\n",
        "                    [104, 118],\n",
        "                    [57, 69],\n",
        "                    [82, 100],\n",
        "                    [118, 134],\n",
        "                    [20, 38],\n",
        "                    [102, 120]],\n",
        "                   dtype='float32')\n",
        "\n",
        "inputs = torch.from_numpy(inputs)\n",
        "targets = torch.from_numpy(targets)"
      ],
      "metadata": {
        "id": "X9jpR7o3t_Pe"
      },
      "execution_count": null,
      "outputs": []
    },
    {
      "cell_type": "code",
      "source": [
        "inputs"
      ],
      "metadata": {
        "colab": {
          "base_uri": "https://localhost:8080/"
        },
        "id": "o_L6Aq43uKgq",
        "outputId": "afeccf3b-6ff4-4d4e-e4f0-02a23d08ba83"
      },
      "execution_count": null,
      "outputs": [
        {
          "output_type": "execute_result",
          "data": {
            "text/plain": [
              "tensor([[ 73.,  67.,  43.],\n",
              "        [ 91.,  88.,  64.],\n",
              "        [ 87., 134.,  58.],\n",
              "        [102.,  43.,  37.],\n",
              "        [ 69.,  96.,  70.],\n",
              "        [ 74.,  66.,  43.],\n",
              "        [ 91.,  87.,  65.],\n",
              "        [ 88., 134.,  59.],\n",
              "        [101.,  44.,  37.],\n",
              "        [ 68.,  96.,  71.],\n",
              "        [ 73.,  66.,  44.],\n",
              "        [ 92.,  87.,  64.],\n",
              "        [ 87., 135.,  57.],\n",
              "        [103.,  43.,  36.],\n",
              "        [ 68.,  97.,  70.]])"
            ]
          },
          "metadata": {},
          "execution_count": 9
        }
      ]
    },
    {
      "cell_type": "code",
      "source": [
        "from torch.utils.data import TensorDataset"
      ],
      "metadata": {
        "id": "crR6tRALufPo"
      },
      "execution_count": null,
      "outputs": []
    },
    {
      "cell_type": "code",
      "source": [
        "# Define dataset\n",
        "train_ds = TensorDataset(inputs, targets)"
      ],
      "metadata": {
        "id": "JSTNi_SfuqKj"
      },
      "execution_count": null,
      "outputs": []
    },
    {
      "cell_type": "code",
      "source": [
        "from torch.utils.data import DataLoader"
      ],
      "metadata": {
        "id": "8NeKkESlu2X-"
      },
      "execution_count": null,
      "outputs": []
    },
    {
      "cell_type": "code",
      "source": [
        "# Define data loader\n",
        "batch_size = 1\n",
        "train_dl = DataLoader(train_ds, batch_size, shuffle=True)"
      ],
      "metadata": {
        "id": "iMgUhbnZu3S0"
      },
      "execution_count": null,
      "outputs": []
    },
    {
      "cell_type": "markdown",
      "source": [
        "In each iteration, the data loader returns one batch of data with the given batch size. If `shuffle` is set to `True`, it shuffles the training data before creating batches. Shuffling helps randomize the input to the optimization algorithm, leading to a faster reduction in the loss."
      ],
      "metadata": {
        "id": "uYexP4d6vCju"
      }
    },
    {
      "cell_type": "code",
      "source": [
        "# Define model\n",
        "model = nn.Linear(3, 2)  #(no.of inputs, no.of targets)\n",
        "print(model.weight)\n",
        "print(model.bias)"
      ],
      "metadata": {
        "colab": {
          "base_uri": "https://localhost:8080/"
        },
        "id": "QyW0BMEIvDxl",
        "outputId": "f8428f10-3890-4042-f76b-0bb85d71d328"
      },
      "execution_count": null,
      "outputs": [
        {
          "output_type": "stream",
          "name": "stdout",
          "text": [
            "Parameter containing:\n",
            "tensor([[-0.4886, -0.5147,  0.3540],\n",
            "        [ 0.2928,  0.4407, -0.3297]], requires_grad=True)\n",
            "Parameter containing:\n",
            "tensor([0.4752, 0.5098], requires_grad=True)\n"
          ]
        }
      ]
    },
    {
      "cell_type": "code",
      "source": [
        "# Generate predictions\n",
        "preds = model(inputs)\n",
        "preds"
      ],
      "metadata": {
        "colab": {
          "base_uri": "https://localhost:8080/"
        },
        "id": "EdD_IYcqvSrU",
        "outputId": "660cf490-fc01-40e6-86d9-910e39ef9bf8"
      },
      "execution_count": null,
      "outputs": [
        {
          "output_type": "execute_result",
          "data": {
            "text/plain": [
              "tensor([[-54.4548,  37.2341],\n",
              "        [-66.6242,  44.8356],\n",
              "        [-90.4706,  65.9136],\n",
              "        [-58.3944,  37.1275],\n",
              "        [-57.8693,  39.9411],\n",
              "        [-54.4286,  37.0862],\n",
              "        [-65.7555,  44.0652],\n",
              "        [-90.6052,  65.8767],\n",
              "        [-58.4205,  37.2753],\n",
              "        [-57.0267,  39.3186],\n",
              "        [-53.5861,  36.4637],\n",
              "        [-66.5981,  44.6877],\n",
              "        [-91.3393,  66.6839],\n",
              "        [-59.2369,  37.7500],\n",
              "        [-57.8954,  40.0889]], grad_fn=<AddmmBackward0>)"
            ]
          },
          "metadata": {},
          "execution_count": 34
        }
      ]
    },
    {
      "cell_type": "code",
      "source": [
        "# Import nn.functional\n",
        "import torch.nn.functional as F\n",
        "# Define loss function\n",
        "loss_fn = F.mse_loss"
      ],
      "metadata": {
        "id": "LbfLm9QYvZEp"
      },
      "execution_count": null,
      "outputs": []
    },
    {
      "cell_type": "code",
      "source": [
        "loss = loss_fn(model(inputs), targets)   #lossfn(preds,target)\n",
        "print(loss)"
      ],
      "metadata": {
        "colab": {
          "base_uri": "https://localhost:8080/"
        },
        "id": "lPOloeJZvjDS",
        "outputId": "a11a4f1c-e6af-4574-9467-174c58d6c072"
      },
      "execution_count": null,
      "outputs": [
        {
          "output_type": "stream",
          "name": "stdout",
          "text": [
            "tensor(12485.3037, grad_fn=<MseLossBackward0>)\n"
          ]
        }
      ]
    },
    {
      "cell_type": "code",
      "source": [
        "# Define optimizer\n",
        "opt = torch.optim.SGD(model.parameters(), lr=1e-7)"
      ],
      "metadata": {
        "id": "-nula9Snvss4"
      },
      "execution_count": null,
      "outputs": []
    },
    {
      "cell_type": "code",
      "source": [
        "import matplotlib.pyplot as plt\n",
        "# Utility function to train the model and plot loss curves\n",
        "def fit(num_epochs, model, loss_fn, opt, train_dl):\n",
        "\n",
        "    # Lists to store training loss values\n",
        "    training_losses = []\n",
        "\n",
        "    # Repeat for the given number of epochs\n",
        "    for epoch in range(num_epochs):\n",
        "\n",
        "        # Lists to store batch losses for this epoch\n",
        "        batch_losses = []\n",
        "\n",
        "        # Train with batches of data\n",
        "        for xb, yb in train_dl:\n",
        "\n",
        "            # 1. Generate predictions\n",
        "            pred = model(xb)\n",
        "\n",
        "            # 2. Calculate loss\n",
        "            loss = loss_fn(pred, yb)\n",
        "\n",
        "            # 3. Compute gradients\n",
        "            loss.backward(create_graph=True)\n",
        "\n",
        "            # 4. Update parameters using gradients\n",
        "            opt.step()\n",
        "\n",
        "            # 5. Reset the gradients to zero\n",
        "            opt.zero_grad()\n",
        "\n",
        "            # Append the batch loss to the list\n",
        "            batch_losses.append(loss.item())\n",
        "\n",
        "        # Calculate and store the average loss for this epoch\n",
        "        epoch_loss = sum(batch_losses) / len(batch_losses)\n",
        "        training_losses.append(epoch_loss)\n",
        "\n",
        "        # Print the progress\n",
        "        if (epoch + 1) % 10 == 0:\n",
        "            print('Epoch [{}/{}], Loss: {:.4f}'.format(epoch + 1, num_epochs, epoch_loss))\n",
        "\n",
        "    # Plot the training loss curve\n",
        "    plt.figure(figsize=(8, 6))\n",
        "    plt.plot(range(1, num_epochs + 1), training_losses, label='Training Loss', marker='o')\n",
        "    plt.title('Training Loss Curve')\n",
        "    plt.xlabel('Epochs')\n",
        "    plt.ylabel('Loss')\n",
        "    plt.legend()\n",
        "    plt.grid(True)\n",
        "    plt.show()\n"
      ],
      "metadata": {
        "id": "WpsiL4GjzngB"
      },
      "execution_count": null,
      "outputs": []
    },
    {
      "cell_type": "code",
      "source": [
        "fit(1000, model, loss_fn, opt, train_dl)"
      ],
      "metadata": {
        "colab": {
          "base_uri": "https://localhost:8080/",
          "height": 1000
        },
        "id": "gZkVhTefydz9",
        "outputId": "cd87cdde-06df-4fc9-cc7f-d1cf235ecbbb"
      },
      "execution_count": null,
      "outputs": [
        {
          "output_type": "stream",
          "name": "stdout",
          "text": [
            "Epoch [10/1000], Loss: 435.6174\n",
            "Epoch [20/1000], Loss: 415.1673\n",
            "Epoch [30/1000], Loss: 400.5471\n",
            "Epoch [40/1000], Loss: 389.4093\n",
            "Epoch [50/1000], Loss: 380.3607\n",
            "Epoch [60/1000], Loss: 372.5648\n",
            "Epoch [70/1000], Loss: 365.5599\n",
            "Epoch [80/1000], Loss: 359.0566\n",
            "Epoch [90/1000], Loss: 352.8818\n",
            "Epoch [100/1000], Loss: 346.9503\n",
            "Epoch [110/1000], Loss: 341.2096\n",
            "Epoch [120/1000], Loss: 335.6150\n",
            "Epoch [130/1000], Loss: 330.1484\n",
            "Epoch [140/1000], Loss: 324.8001\n",
            "Epoch [150/1000], Loss: 319.5570\n",
            "Epoch [160/1000], Loss: 314.4084\n",
            "Epoch [170/1000], Loss: 309.3740\n",
            "Epoch [180/1000], Loss: 304.4249\n",
            "Epoch [190/1000], Loss: 299.5697\n",
            "Epoch [200/1000], Loss: 294.8032\n",
            "Epoch [210/1000], Loss: 290.1258\n",
            "Epoch [220/1000], Loss: 285.5370\n",
            "Epoch [230/1000], Loss: 281.0295\n",
            "Epoch [240/1000], Loss: 276.6067\n",
            "Epoch [250/1000], Loss: 272.2626\n",
            "Epoch [260/1000], Loss: 268.0022\n",
            "Epoch [270/1000], Loss: 263.8200\n",
            "Epoch [280/1000], Loss: 259.7132\n",
            "Epoch [290/1000], Loss: 255.6825\n",
            "Epoch [300/1000], Loss: 251.7224\n",
            "Epoch [310/1000], Loss: 247.8377\n",
            "Epoch [320/1000], Loss: 244.0266\n",
            "Epoch [330/1000], Loss: 240.2804\n",
            "Epoch [340/1000], Loss: 236.6068\n",
            "Epoch [350/1000], Loss: 233.0002\n",
            "Epoch [360/1000], Loss: 229.4576\n",
            "Epoch [370/1000], Loss: 225.9814\n",
            "Epoch [380/1000], Loss: 222.5675\n",
            "Epoch [390/1000], Loss: 219.2147\n",
            "Epoch [400/1000], Loss: 215.9260\n",
            "Epoch [410/1000], Loss: 212.6955\n",
            "Epoch [420/1000], Loss: 209.5239\n",
            "Epoch [430/1000], Loss: 206.4109\n",
            "Epoch [440/1000], Loss: 203.3531\n",
            "Epoch [450/1000], Loss: 200.3514\n",
            "Epoch [460/1000], Loss: 197.4048\n",
            "Epoch [470/1000], Loss: 194.5086\n",
            "Epoch [480/1000], Loss: 191.6707\n",
            "Epoch [490/1000], Loss: 188.8815\n",
            "Epoch [500/1000], Loss: 186.1405\n",
            "Epoch [510/1000], Loss: 183.4529\n",
            "Epoch [520/1000], Loss: 180.8111\n",
            "Epoch [530/1000], Loss: 178.2187\n",
            "Epoch [540/1000], Loss: 175.6732\n",
            "Epoch [550/1000], Loss: 173.1724\n",
            "Epoch [560/1000], Loss: 170.7184\n",
            "Epoch [570/1000], Loss: 168.3067\n",
            "Epoch [580/1000], Loss: 165.9394\n",
            "Epoch [590/1000], Loss: 163.6143\n",
            "Epoch [600/1000], Loss: 161.3318\n",
            "Epoch [610/1000], Loss: 159.0888\n",
            "Epoch [620/1000], Loss: 156.8877\n",
            "Epoch [630/1000], Loss: 154.7241\n",
            "Epoch [640/1000], Loss: 152.6018\n",
            "Epoch [650/1000], Loss: 150.5156\n",
            "Epoch [660/1000], Loss: 148.4676\n",
            "Epoch [670/1000], Loss: 146.4558\n",
            "Epoch [680/1000], Loss: 144.4799\n",
            "Epoch [690/1000], Loss: 142.5388\n",
            "Epoch [700/1000], Loss: 140.6326\n",
            "Epoch [710/1000], Loss: 138.7599\n",
            "Epoch [720/1000], Loss: 136.9213\n",
            "Epoch [730/1000], Loss: 135.1155\n",
            "Epoch [740/1000], Loss: 133.3408\n",
            "Epoch [750/1000], Loss: 131.5980\n",
            "Epoch [760/1000], Loss: 129.8860\n",
            "Epoch [770/1000], Loss: 128.2036\n",
            "Epoch [780/1000], Loss: 126.5517\n",
            "Epoch [790/1000], Loss: 124.9289\n",
            "Epoch [800/1000], Loss: 123.3337\n",
            "Epoch [810/1000], Loss: 121.7680\n",
            "Epoch [820/1000], Loss: 120.2294\n",
            "Epoch [830/1000], Loss: 118.7175\n",
            "Epoch [840/1000], Loss: 117.2315\n",
            "Epoch [850/1000], Loss: 115.7718\n",
            "Epoch [860/1000], Loss: 114.3375\n",
            "Epoch [870/1000], Loss: 112.9294\n",
            "Epoch [880/1000], Loss: 111.5456\n",
            "Epoch [890/1000], Loss: 110.1835\n",
            "Epoch [900/1000], Loss: 108.8481\n",
            "Epoch [910/1000], Loss: 107.5354\n",
            "Epoch [920/1000], Loss: 106.2445\n",
            "Epoch [930/1000], Loss: 104.9766\n",
            "Epoch [940/1000], Loss: 103.7306\n",
            "Epoch [950/1000], Loss: 102.5060\n",
            "Epoch [960/1000], Loss: 101.3019\n",
            "Epoch [970/1000], Loss: 100.1191\n",
            "Epoch [980/1000], Loss: 98.9570\n",
            "Epoch [990/1000], Loss: 97.8141\n",
            "Epoch [1000/1000], Loss: 96.6904\n"
          ]
        },
        {
          "output_type": "display_data",
          "data": {
            "text/plain": [
              "<Figure size 800x600 with 1 Axes>"
            ],
            "image/png": "[encoded data removed]"
          },
          "metadata": {}
        }
      ]
    },
    {
      "cell_type": "code",
      "source": [
        "# Import nn.functional\n",
        "import torch.nn.functional as F\n",
        "# Define loss function\n",
        "loss_fn = F.cross_entropy\n",
        "loss = loss_fn(model(inputs), targets)\n",
        "opt = torch.optim.SGD(model.parameters(), lr=1e-7)\n",
        "import matplotlib.pyplot as plt\n",
        "# Utility function to train the model and plot loss curves\n",
        "def fit(num_epochs, model, loss_fn, opt, train_dl):\n",
        "\n",
        "    # Lists to store training loss values\n",
        "    training_losses = []\n",
        "\n",
        "    # Repeat for the given number of epochs\n",
        "    for epoch in range(num_epochs):\n",
        "\n",
        "        # Lists to store batch losses for this epoch\n",
        "        batch_losses = []\n",
        "\n",
        "        # Train with batches of data\n",
        "        for xb, yb in train_dl:\n",
        "\n",
        "            # 1. Generate predictions\n",
        "            pred = model(xb)\n",
        "\n",
        "            # 2. Calculate loss\n",
        "            loss = loss_fn(pred, yb)\n",
        "\n",
        "            # 3. Compute gradients\n",
        "            loss.backward(create_graph=True)\n",
        "\n",
        "            # 4. Update parameters using gradients\n",
        "            opt.step()\n",
        "\n",
        "            # 5. Reset the gradients to zero\n",
        "            opt.zero_grad()\n",
        "\n",
        "            # Append the batch loss to the list\n",
        "            batch_losses.append(loss.item())\n",
        "\n",
        "        # Calculate and store the average loss for this epoch\n",
        "        epoch_loss = sum(batch_losses) / len(batch_losses)\n",
        "        training_losses.append(epoch_loss)\n",
        "\n",
        "        # Print the progress\n",
        "        if (epoch + 1) % 10 == 0:\n",
        "            print('Epoch [{}/{}], Loss: {:.4f}'.format(epoch + 1, num_epochs, epoch_loss))\n",
        "\n",
        "    # Plot the training loss curve\n",
        "    plt.figure(figsize=(8, 6))\n",
        "    plt.plot(range(1, num_epochs + 1), training_losses, label='Training Loss', marker='o')\n",
        "    plt.title('Training Loss Curve')\n",
        "    plt.xlabel('Epochs')\n",
        "    plt.ylabel('Loss')\n",
        "    plt.legend()\n",
        "    plt.grid(True)\n",
        "    plt.show()\n"
      ],
      "metadata": {
        "id": "6vtpUIOEzCCz"
      },
      "execution_count": null,
      "outputs": []
    },
    {
      "cell_type": "code",
      "source": [
        "fit(1000, model, loss_fn, opt, train_dl)"
      ],
      "metadata": {
        "colab": {
          "base_uri": "https://localhost:8080/",
          "height": 1000
        },
        "id": "UAzUimWtzHaM",
        "outputId": "f9d09ce8-73c5-4cf5-a056-8700259c8ba7"
      },
      "execution_count": null,
      "outputs": [
        {
          "output_type": "stream",
          "name": "stdout",
          "text": [
            "Epoch [10/1000], Loss: 785.4116\n",
            "Epoch [20/1000], Loss: 770.7933\n",
            "Epoch [30/1000], Loss: 750.3154\n",
            "Epoch [40/1000], Loss: 729.3937\n",
            "Epoch [50/1000], Loss: 708.9375\n",
            "Epoch [60/1000], Loss: 688.2238\n",
            "Epoch [70/1000], Loss: 667.0581\n",
            "Epoch [80/1000], Loss: 646.9598\n",
            "Epoch [90/1000], Loss: 624.9179\n",
            "Epoch [100/1000], Loss: 604.4853\n",
            "Epoch [110/1000], Loss: 585.0058\n",
            "Epoch [120/1000], Loss: 564.5059\n",
            "Epoch [130/1000], Loss: 543.6508\n",
            "Epoch [140/1000], Loss: 523.4563\n",
            "Epoch [150/1000], Loss: 503.5847\n",
            "Epoch [160/1000], Loss: 483.1608\n",
            "Epoch [170/1000], Loss: 462.8809\n",
            "Epoch [180/1000], Loss: 441.5096\n",
            "Epoch [190/1000], Loss: 422.7627\n",
            "Epoch [200/1000], Loss: 403.3533\n",
            "Epoch [210/1000], Loss: 383.4686\n",
            "Epoch [220/1000], Loss: 363.9878\n",
            "Epoch [230/1000], Loss: 343.8924\n",
            "Epoch [240/1000], Loss: 326.7720\n",
            "Epoch [250/1000], Loss: 309.3268\n",
            "Epoch [260/1000], Loss: 292.0604\n",
            "Epoch [270/1000], Loss: 273.7293\n",
            "Epoch [280/1000], Loss: 260.1018\n",
            "Epoch [290/1000], Loss: 245.8565\n",
            "Epoch [300/1000], Loss: 226.3823\n",
            "Epoch [310/1000], Loss: 217.3415\n",
            "Epoch [320/1000], Loss: 207.1176\n",
            "Epoch [330/1000], Loss: 194.5192\n",
            "Epoch [340/1000], Loss: 182.7358\n",
            "Epoch [350/1000], Loss: 171.7245\n",
            "Epoch [360/1000], Loss: 163.7779\n",
            "Epoch [370/1000], Loss: 153.8837\n",
            "Epoch [380/1000], Loss: 145.8851\n",
            "Epoch [390/1000], Loss: 139.6947\n",
            "Epoch [400/1000], Loss: 134.4244\n",
            "Epoch [410/1000], Loss: 129.4894\n",
            "Epoch [420/1000], Loss: 125.5993\n",
            "Epoch [430/1000], Loss: 123.2400\n",
            "Epoch [440/1000], Loss: 120.9026\n",
            "Epoch [450/1000], Loss: 119.8346\n",
            "Epoch [460/1000], Loss: 118.7180\n",
            "Epoch [470/1000], Loss: 117.8119\n",
            "Epoch [480/1000], Loss: 117.1831\n",
            "Epoch [490/1000], Loss: 116.5841\n",
            "Epoch [500/1000], Loss: 116.3240\n",
            "Epoch [510/1000], Loss: 116.1307\n",
            "Epoch [520/1000], Loss: 115.9340\n",
            "Epoch [530/1000], Loss: 115.8102\n",
            "Epoch [540/1000], Loss: 115.6978\n",
            "Epoch [550/1000], Loss: 115.6422\n",
            "Epoch [560/1000], Loss: 115.5968\n",
            "Epoch [570/1000], Loss: 115.5274\n",
            "Epoch [580/1000], Loss: 115.5245\n",
            "Epoch [590/1000], Loss: 115.5075\n",
            "Epoch [600/1000], Loss: 115.4972\n",
            "Epoch [610/1000], Loss: 115.4873\n",
            "Epoch [620/1000], Loss: 115.4814\n",
            "Epoch [630/1000], Loss: 115.4773\n",
            "Epoch [640/1000], Loss: 115.4744\n",
            "Epoch [650/1000], Loss: 115.4698\n",
            "Epoch [660/1000], Loss: 115.4694\n",
            "Epoch [670/1000], Loss: 115.4666\n",
            "Epoch [680/1000], Loss: 115.4675\n",
            "Epoch [690/1000], Loss: 115.4680\n",
            "Epoch [700/1000], Loss: 115.4635\n",
            "Epoch [710/1000], Loss: 115.4641\n",
            "Epoch [720/1000], Loss: 115.4657\n",
            "Epoch [730/1000], Loss: 115.4663\n",
            "Epoch [740/1000], Loss: 115.4658\n",
            "Epoch [750/1000], Loss: 115.4640\n",
            "Epoch [760/1000], Loss: 115.4653\n",
            "Epoch [770/1000], Loss: 115.4657\n",
            "Epoch [780/1000], Loss: 115.4653\n",
            "Epoch [790/1000], Loss: 115.4656\n",
            "Epoch [800/1000], Loss: 115.4656\n",
            "Epoch [810/1000], Loss: 115.4658\n",
            "Epoch [820/1000], Loss: 115.4616\n",
            "Epoch [830/1000], Loss: 115.4649\n",
            "Epoch [840/1000], Loss: 115.4642\n",
            "Epoch [850/1000], Loss: 115.4649\n",
            "Epoch [860/1000], Loss: 115.4619\n",
            "Epoch [870/1000], Loss: 115.4652\n",
            "Epoch [880/1000], Loss: 115.4598\n",
            "Epoch [890/1000], Loss: 115.4661\n",
            "Epoch [900/1000], Loss: 115.4671\n",
            "Epoch [910/1000], Loss: 115.4647\n",
            "Epoch [920/1000], Loss: 115.4639\n",
            "Epoch [930/1000], Loss: 115.4665\n",
            "Epoch [940/1000], Loss: 115.4639\n",
            "Epoch [950/1000], Loss: 115.4648\n",
            "Epoch [960/1000], Loss: 115.4660\n",
            "Epoch [970/1000], Loss: 115.4651\n",
            "Epoch [980/1000], Loss: 115.4624\n",
            "Epoch [990/1000], Loss: 115.4653\n",
            "Epoch [1000/1000], Loss: 115.4654\n"
          ]
        },
        {
          "output_type": "display_data",
          "data": {
            "text/plain": [
              "<Figure size 800x600 with 1 Axes>"
            ],
            "image/png": "[encoded data removed]"
          },
          "metadata": {}
        }
      ]
    },
    {
      "cell_type": "code",
      "source": [
        "# Import nn.functional\n",
        "import torch.nn.functional as F\n",
        "# Define loss function\n",
        "loss_fn = F.hinge_embedding_loss\n",
        "loss = loss_fn(model(inputs), targets)\n",
        "opt = torch.optim.SGD(model.parameters(), lr=1e-7)\n",
        "import matplotlib.pyplot as plt\n",
        "# Utility function to train the model and plot loss curves\n",
        "def fit(num_epochs, model, loss_fn, opt, train_dl):\n",
        "\n",
        "    # Lists to store training loss values\n",
        "    training_losses = []\n",
        "\n",
        "    # Repeat for the given number of epochs\n",
        "    for epoch in range(num_epochs):\n",
        "\n",
        "        # Lists to store batch losses for this epoch\n",
        "        batch_losses = []\n",
        "\n",
        "        # Train with batches of data\n",
        "        for xb, yb in train_dl:\n",
        "\n",
        "            # 1. Generate predictions\n",
        "            pred = model(xb)\n",
        "\n",
        "            # 2. Calculate loss\n",
        "            loss = loss_fn(pred, yb)\n",
        "\n",
        "            # 3. Compute gradients\n",
        "            loss.backward(create_graph=True)\n",
        "\n",
        "            # 4. Update parameters using gradients\n",
        "            opt.step()\n",
        "\n",
        "            # 5. Reset the gradients to zero\n",
        "            opt.zero_grad()\n",
        "\n",
        "            # Append the batch loss to the list\n",
        "            batch_losses.append(loss.item())\n",
        "\n",
        "        # Calculate and store the average loss for this epoch\n",
        "        epoch_loss = sum(batch_losses) / len(batch_losses)\n",
        "        training_losses.append(epoch_loss)\n",
        "\n",
        "        # Print the progress\n",
        "        if (epoch + 1) % 10 == 0:\n",
        "            print('Epoch [{}/{}], Loss: {:.4f}'.format(epoch + 1, num_epochs, epoch_loss))\n",
        "\n",
        "    # Plot the training loss curve\n",
        "    plt.figure(figsize=(8, 6))\n",
        "    plt.plot(range(1, num_epochs + 1), training_losses, label='Training Loss', marker='o')\n",
        "    plt.title('Training Loss Curve')\n",
        "    plt.xlabel('Epochs')\n",
        "    plt.ylabel('Loss')\n",
        "    plt.legend()\n",
        "    plt.grid(True)\n",
        "    plt.show()\n"
      ],
      "metadata": {
        "id": "437eCdSOzVV-"
      },
      "execution_count": null,
      "outputs": []
    },
    {
      "cell_type": "code",
      "source": [
        "fit(1000, model, loss_fn, opt, train_dl)"
      ],
      "metadata": {
        "colab": {
          "base_uri": "https://localhost:8080/",
          "height": 1000
        },
        "id": "PvCYe2dB1Kp4",
        "outputId": "db3ee81b-8822-42a1-e023-87174e5c4f10"
      },
      "execution_count": null,
      "outputs": [
        {
          "output_type": "stream",
          "name": "stdout",
          "text": [
            "Epoch [10/1000], Loss: 84.6983\n",
            "Epoch [20/1000], Loss: 84.5677\n",
            "Epoch [30/1000], Loss: 84.4371\n",
            "Epoch [40/1000], Loss: 84.3065\n",
            "Epoch [50/1000], Loss: 84.1759\n",
            "Epoch [60/1000], Loss: 84.0453\n",
            "Epoch [70/1000], Loss: 83.9147\n",
            "Epoch [80/1000], Loss: 83.7841\n",
            "Epoch [90/1000], Loss: 83.6535\n",
            "Epoch [100/1000], Loss: 83.5229\n",
            "Epoch [110/1000], Loss: 83.3923\n",
            "Epoch [120/1000], Loss: 83.2617\n",
            "Epoch [130/1000], Loss: 83.1311\n",
            "Epoch [140/1000], Loss: 83.0005\n",
            "Epoch [150/1000], Loss: 82.8699\n",
            "Epoch [160/1000], Loss: 82.7394\n",
            "Epoch [170/1000], Loss: 82.6088\n",
            "Epoch [180/1000], Loss: 82.4782\n",
            "Epoch [190/1000], Loss: 82.3476\n",
            "Epoch [200/1000], Loss: 82.2170\n",
            "Epoch [210/1000], Loss: 82.0864\n",
            "Epoch [220/1000], Loss: 81.9558\n",
            "Epoch [230/1000], Loss: 81.8252\n",
            "Epoch [240/1000], Loss: 81.6946\n",
            "Epoch [250/1000], Loss: 81.5640\n",
            "Epoch [260/1000], Loss: 81.4334\n",
            "Epoch [270/1000], Loss: 81.3028\n",
            "Epoch [280/1000], Loss: 81.1722\n",
            "Epoch [290/1000], Loss: 81.0416\n",
            "Epoch [300/1000], Loss: 80.9110\n",
            "Epoch [310/1000], Loss: 80.7804\n",
            "Epoch [320/1000], Loss: 80.6498\n",
            "Epoch [330/1000], Loss: 80.5192\n",
            "Epoch [340/1000], Loss: 80.3886\n",
            "Epoch [350/1000], Loss: 80.2580\n",
            "Epoch [360/1000], Loss: 80.1274\n",
            "Epoch [370/1000], Loss: 79.9968\n",
            "Epoch [380/1000], Loss: 79.8662\n",
            "Epoch [390/1000], Loss: 79.7356\n",
            "Epoch [400/1000], Loss: 79.6050\n",
            "Epoch [410/1000], Loss: 79.4744\n",
            "Epoch [420/1000], Loss: 79.3438\n",
            "Epoch [430/1000], Loss: 79.2132\n",
            "Epoch [440/1000], Loss: 79.0826\n",
            "Epoch [450/1000], Loss: 78.9520\n",
            "Epoch [460/1000], Loss: 78.8214\n",
            "Epoch [470/1000], Loss: 78.6908\n",
            "Epoch [480/1000], Loss: 78.5602\n",
            "Epoch [490/1000], Loss: 78.4296\n",
            "Epoch [500/1000], Loss: 78.2990\n",
            "Epoch [510/1000], Loss: 78.1684\n",
            "Epoch [520/1000], Loss: 78.0378\n",
            "Epoch [530/1000], Loss: 77.9072\n",
            "Epoch [540/1000], Loss: 77.7766\n",
            "Epoch [550/1000], Loss: 77.6460\n",
            "Epoch [560/1000], Loss: 77.5154\n",
            "Epoch [570/1000], Loss: 77.3849\n",
            "Epoch [580/1000], Loss: 77.2542\n",
            "Epoch [590/1000], Loss: 77.1237\n",
            "Epoch [600/1000], Loss: 76.9931\n",
            "Epoch [610/1000], Loss: 76.8625\n",
            "Epoch [620/1000], Loss: 76.7319\n",
            "Epoch [630/1000], Loss: 76.6013\n",
            "Epoch [640/1000], Loss: 76.4707\n",
            "Epoch [650/1000], Loss: 76.3401\n",
            "Epoch [660/1000], Loss: 76.2095\n",
            "Epoch [670/1000], Loss: 76.0789\n",
            "Epoch [680/1000], Loss: 75.9483\n",
            "Epoch [690/1000], Loss: 75.8177\n",
            "Epoch [700/1000], Loss: 75.6871\n",
            "Epoch [710/1000], Loss: 75.5565\n",
            "Epoch [720/1000], Loss: 75.4259\n",
            "Epoch [730/1000], Loss: 75.2953\n",
            "Epoch [740/1000], Loss: 75.1647\n",
            "Epoch [750/1000], Loss: 75.0341\n",
            "Epoch [760/1000], Loss: 74.9035\n",
            "Epoch [770/1000], Loss: 74.7729\n",
            "Epoch [780/1000], Loss: 74.6423\n",
            "Epoch [790/1000], Loss: 74.5117\n",
            "Epoch [800/1000], Loss: 74.3811\n",
            "Epoch [810/1000], Loss: 74.2505\n",
            "Epoch [820/1000], Loss: 74.1199\n",
            "Epoch [830/1000], Loss: 73.9893\n",
            "Epoch [840/1000], Loss: 73.8587\n",
            "Epoch [850/1000], Loss: 73.7281\n",
            "Epoch [860/1000], Loss: 73.5975\n",
            "Epoch [870/1000], Loss: 73.4669\n",
            "Epoch [880/1000], Loss: 73.3363\n",
            "Epoch [890/1000], Loss: 73.2057\n",
            "Epoch [900/1000], Loss: 73.0751\n",
            "Epoch [910/1000], Loss: 72.9445\n",
            "Epoch [920/1000], Loss: 72.8139\n",
            "Epoch [930/1000], Loss: 72.6833\n",
            "Epoch [940/1000], Loss: 72.5527\n",
            "Epoch [950/1000], Loss: 72.4221\n",
            "Epoch [960/1000], Loss: 72.2915\n",
            "Epoch [970/1000], Loss: 72.1609\n",
            "Epoch [980/1000], Loss: 72.0303\n",
            "Epoch [990/1000], Loss: 71.8997\n",
            "Epoch [1000/1000], Loss: 71.7691\n"
          ]
        },
        {
          "output_type": "display_data",
          "data": {
            "text/plain": [
              "<Figure size 800x600 with 1 Axes>"
            ],
            "image/png": "[encoded data removed]"
          },
          "metadata": {}
        }
      ]
    }
  ]
}